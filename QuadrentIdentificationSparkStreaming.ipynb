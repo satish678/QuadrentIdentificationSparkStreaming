{
 "cells": [
  {
   "cell_type": "code",
   "execution_count": null,
   "metadata": {
    "collapsed": true
   },
   "outputs": [],
   "source": [
    "import sys\n",
    "from pyspark import SparkContext\n",
    "from pyspark.streaming import StreamingContext"
   ]
  },
  {
   "cell_type": "code",
   "execution_count": null,
   "metadata": {
    "collapsed": true
   },
   "outputs": [],
   "source": [
    "sc = SparkContext(appName='Cordirant locating')"
   ]
  },
  {
   "cell_type": "code",
   "execution_count": null,
   "metadata": {
    "collapsed": true
   },
   "outputs": [],
   "source": [
    "ssc = StreamingContext(sc,10)"
   ]
  },
  {
   "cell_type": "code",
   "execution_count": null,
   "metadata": {
    "collapsed": true
   },
   "outputs": [],
   "source": [
    "ssc.checkpoint(\"Checkpoint quadrant\")"
   ]
  },
  {
   "cell_type": "code",
   "execution_count": null,
   "metadata": {
    "collapsed": true
   },
   "outputs": [],
   "source": [
    "def get_quadrant(line):\n",
    "    # Convert the input string into a pair of numbers\n",
    "    try:\n",
    "        (x, y) = [float(x) for x in line.split()]\n",
    "    except:\n",
    "        print (\"Invalid input\")\n",
    "        return ('Invalid points', 1)\n",
    "\n",
    "    # Map the pair of numbers to the right quadrant\n",
    "    if x > 0 and y > 0:\n",
    "        quadrant = 'First quadrant'\n",
    "    elif x < 0 and y > 0:\n",
    "        quadrant = 'Second quadrant'\n",
    "    elif x < 0 and y < 0:\n",
    "        quadrant = 'Third quadrant'\n",
    "    elif x > 0 and y < 0:\n",
    "        quadrant = 'Fourth quadrant'\n",
    "    elif x == 0 and y != 0:\n",
    "        quadrant = 'Lies on Y axis'\n",
    "    elif x != 0 and y == 0:\n",
    "        quadrant = 'Lies on X axis'\n",
    "    else:\n",
    "        quadrant = 'Origin'\n",
    "\n",
    "    # The pair represents the quadrant and the counter increment\n",
    "    return (quadrant, 1)"
   ]
  },
  {
   "cell_type": "code",
   "execution_count": null,
   "metadata": {
    "collapsed": true
   },
   "outputs": [],
   "source": [
    "lines = ssc.socketTextStream('20.0.41.53',6781)"
   ]
  },
  {
   "cell_type": "code",
   "execution_count": null,
   "metadata": {
    "collapsed": true
   },
   "outputs": [],
   "source": [
    "updateFunction = lambda new_values, running_count: sum(new_values) + (running_count or 0)"
   ]
  },
  {
   "cell_type": "code",
   "execution_count": null,
   "metadata": {
    "collapsed": true
   },
   "outputs": [],
   "source": [
    "running_counts = lines.map(get_quadrant).updateStateByKey(updateFunction)"
   ]
  },
  {
   "cell_type": "code",
   "execution_count": null,
   "metadata": {
    "collapsed": true
   },
   "outputs": [],
   "source": [
    "running_counts.pprint()"
   ]
  },
  {
   "cell_type": "code",
   "execution_count": null,
   "metadata": {
    "collapsed": true
   },
   "outputs": [],
   "source": [
    "ssc.start()"
   ]
  },
  {
   "cell_type": "code",
   "execution_count": null,
   "metadata": {},
   "outputs": [],
   "source": [
    "ssc.awaitTermination()"
   ]
  },
  {
   "cell_type": "code",
   "execution_count": null,
   "metadata": {
    "collapsed": true
   },
   "outputs": [],
   "source": []
  }
 ],
 "metadata": {
  "kernelspec": {
   "display_name": "Python 3",
   "language": "python",
   "name": "python3"
  },
  "language_info": {
   "codemirror_mode": {
    "name": "ipython",
    "version": 3
   },
   "file_extension": ".py",
   "mimetype": "text/x-python",
   "name": "python",
   "nbconvert_exporter": "python",
   "pygments_lexer": "ipython3",
   "version": "3.7.3"
  }
 },
 "nbformat": 4,
 "nbformat_minor": 2
}
